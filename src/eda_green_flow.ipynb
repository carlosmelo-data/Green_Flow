{
 "cells": [
  {
   "cell_type": "markdown",
   "metadata": {},
   "source": [
    "## Importação os dados"
   ]
  },
  {
   "cell_type": "code",
   "execution_count": 26,
   "metadata": {},
   "outputs": [
    {
     "data": {
      "text/html": [
       "<div>\n",
       "<style scoped>\n",
       "    .dataframe tbody tr th:only-of-type {\n",
       "        vertical-align: middle;\n",
       "    }\n",
       "\n",
       "    .dataframe tbody tr th {\n",
       "        vertical-align: top;\n",
       "    }\n",
       "\n",
       "    .dataframe thead th {\n",
       "        text-align: right;\n",
       "    }\n",
       "</style>\n",
       "<table border=\"1\" class=\"dataframe\">\n",
       "  <thead>\n",
       "    <tr style=\"text-align: right;\">\n",
       "      <th></th>\n",
       "      <th>Empresa</th>\n",
       "      <th>energia_kwh</th>\n",
       "      <th>agua_m3</th>\n",
       "      <th>co2_emissoes</th>\n",
       "      <th>Setor</th>\n",
       "    </tr>\n",
       "  </thead>\n",
       "  <tbody>\n",
       "    <tr>\n",
       "      <th>0</th>\n",
       "      <td>Empresa_1</td>\n",
       "      <td>6397.10</td>\n",
       "      <td>296.58</td>\n",
       "      <td>1600.24</td>\n",
       "      <td>Educação</td>\n",
       "    </tr>\n",
       "    <tr>\n",
       "      <th>1</th>\n",
       "      <td>Empresa_2</td>\n",
       "      <td>2570.30</td>\n",
       "      <td>492.52</td>\n",
       "      <td>818.98</td>\n",
       "      <td>Saúde</td>\n",
       "    </tr>\n",
       "    <tr>\n",
       "      <th>2</th>\n",
       "      <td>Empresa_3</td>\n",
       "      <td>4166.20</td>\n",
       "      <td>158.67</td>\n",
       "      <td>2710.03</td>\n",
       "      <td>Saúde</td>\n",
       "    </tr>\n",
       "    <tr>\n",
       "      <th>3</th>\n",
       "      <td>Empresa_4</td>\n",
       "      <td>8781.75</td>\n",
       "      <td>211.74</td>\n",
       "      <td>2036.72</td>\n",
       "      <td>Educação</td>\n",
       "    </tr>\n",
       "    <tr>\n",
       "      <th>4</th>\n",
       "      <td>Empresa_5</td>\n",
       "      <td>7846.09</td>\n",
       "      <td>16.84</td>\n",
       "      <td>2179.03</td>\n",
       "      <td>Indústria</td>\n",
       "    </tr>\n",
       "  </tbody>\n",
       "</table>\n",
       "</div>"
      ],
      "text/plain": [
       "     Empresa  energia_kwh  agua_m3  co2_emissoes      Setor\n",
       "0  Empresa_1      6397.10   296.58       1600.24   Educação\n",
       "1  Empresa_2      2570.30   492.52        818.98      Saúde\n",
       "2  Empresa_3      4166.20   158.67       2710.03      Saúde\n",
       "3  Empresa_4      8781.75   211.74       2036.72   Educação\n",
       "4  Empresa_5      7846.09    16.84       2179.03  Indústria"
      ]
     },
     "execution_count": 26,
     "metadata": {},
     "output_type": "execute_result"
    }
   ],
   "source": [
    "import matplotlib.pyplot as plt\n",
    "import numpy as np\n",
    "import pandas as pd\n",
    "import seaborn as sns\n",
    "import warnings\n",
    "\n",
    "\n",
    "warnings.filterwarnings(\"ignore\")\n",
    "\n",
    "# Ler o arquivo Parquet\n",
    "df = pd.read_parquet(\"..\\data\\dados_sensores_5000.parquet\")\n",
    "df = df.rename(columns={\"empresa\": \"Empresa\", \"setor\": \"Setor\"})\n",
    "df.to_csv('..\\data\\dados_sensores.csv') \n",
    "df.head()"
   ]
  },
  {
   "cell_type": "markdown",
   "metadata": {},
   "source": [
    "## Univariate Data Analysis"
   ]
  },
  {
   "cell_type": "code",
   "execution_count": 9,
   "metadata": {},
   "outputs": [
    {
     "data": {
      "text/plain": [
       "(5000, 5)"
      ]
     },
     "execution_count": 9,
     "metadata": {},
     "output_type": "execute_result"
    }
   ],
   "source": [
    "df.shape"
   ]
  },
  {
   "cell_type": "code",
   "execution_count": 10,
   "metadata": {},
   "outputs": [
    {
     "data": {
      "text/html": [
       "<div>\n",
       "<style scoped>\n",
       "    .dataframe tbody tr th:only-of-type {\n",
       "        vertical-align: middle;\n",
       "    }\n",
       "\n",
       "    .dataframe tbody tr th {\n",
       "        vertical-align: top;\n",
       "    }\n",
       "\n",
       "    .dataframe thead th {\n",
       "        text-align: right;\n",
       "    }\n",
       "</style>\n",
       "<table border=\"1\" class=\"dataframe\">\n",
       "  <thead>\n",
       "    <tr style=\"text-align: right;\">\n",
       "      <th></th>\n",
       "      <th>empresa</th>\n",
       "      <th>energia_kwh</th>\n",
       "      <th>agua_m3</th>\n",
       "      <th>co2_emissoes</th>\n",
       "      <th>setor</th>\n",
       "    </tr>\n",
       "  </thead>\n",
       "  <tbody>\n",
       "    <tr>\n",
       "      <th>count</th>\n",
       "      <td>5000</td>\n",
       "      <td>5000.000000</td>\n",
       "      <td>5000.000000</td>\n",
       "      <td>5000.000000</td>\n",
       "      <td>5000</td>\n",
       "    </tr>\n",
       "    <tr>\n",
       "      <th>unique</th>\n",
       "      <td>5000</td>\n",
       "      <td>NaN</td>\n",
       "      <td>NaN</td>\n",
       "      <td>NaN</td>\n",
       "      <td>6</td>\n",
       "    </tr>\n",
       "    <tr>\n",
       "      <th>top</th>\n",
       "      <td>Empresa_5000</td>\n",
       "      <td>NaN</td>\n",
       "      <td>NaN</td>\n",
       "      <td>NaN</td>\n",
       "      <td>Indústria</td>\n",
       "    </tr>\n",
       "    <tr>\n",
       "      <th>freq</th>\n",
       "      <td>1</td>\n",
       "      <td>NaN</td>\n",
       "      <td>NaN</td>\n",
       "      <td>NaN</td>\n",
       "      <td>849</td>\n",
       "    </tr>\n",
       "    <tr>\n",
       "      <th>mean</th>\n",
       "      <td>NaN</td>\n",
       "      <td>4982.012088</td>\n",
       "      <td>254.591516</td>\n",
       "      <td>1507.816080</td>\n",
       "      <td>NaN</td>\n",
       "    </tr>\n",
       "    <tr>\n",
       "      <th>std</th>\n",
       "      <td>NaN</td>\n",
       "      <td>2821.081316</td>\n",
       "      <td>139.225517</td>\n",
       "      <td>849.554449</td>\n",
       "      <td>NaN</td>\n",
       "    </tr>\n",
       "    <tr>\n",
       "      <th>min</th>\n",
       "      <td>NaN</td>\n",
       "      <td>100.620000</td>\n",
       "      <td>10.120000</td>\n",
       "      <td>51.120000</td>\n",
       "      <td>NaN</td>\n",
       "    </tr>\n",
       "    <tr>\n",
       "      <th>25%</th>\n",
       "      <td>NaN</td>\n",
       "      <td>2581.745000</td>\n",
       "      <td>138.082500</td>\n",
       "      <td>774.130000</td>\n",
       "      <td>NaN</td>\n",
       "    </tr>\n",
       "    <tr>\n",
       "      <th>50%</th>\n",
       "      <td>NaN</td>\n",
       "      <td>4936.540000</td>\n",
       "      <td>250.895000</td>\n",
       "      <td>1492.695000</td>\n",
       "      <td>NaN</td>\n",
       "    </tr>\n",
       "    <tr>\n",
       "      <th>75%</th>\n",
       "      <td>NaN</td>\n",
       "      <td>7425.097500</td>\n",
       "      <td>373.512500</td>\n",
       "      <td>2258.457500</td>\n",
       "      <td>NaN</td>\n",
       "    </tr>\n",
       "    <tr>\n",
       "      <th>max</th>\n",
       "      <td>NaN</td>\n",
       "      <td>9993.800000</td>\n",
       "      <td>499.760000</td>\n",
       "      <td>2999.640000</td>\n",
       "      <td>NaN</td>\n",
       "    </tr>\n",
       "  </tbody>\n",
       "</table>\n",
       "</div>"
      ],
      "text/plain": [
       "             empresa  energia_kwh      agua_m3  co2_emissoes      setor\n",
       "count           5000  5000.000000  5000.000000   5000.000000       5000\n",
       "unique          5000          NaN          NaN           NaN          6\n",
       "top     Empresa_5000          NaN          NaN           NaN  Indústria\n",
       "freq               1          NaN          NaN           NaN        849\n",
       "mean             NaN  4982.012088   254.591516   1507.816080        NaN\n",
       "std              NaN  2821.081316   139.225517    849.554449        NaN\n",
       "min              NaN   100.620000    10.120000     51.120000        NaN\n",
       "25%              NaN  2581.745000   138.082500    774.130000        NaN\n",
       "50%              NaN  4936.540000   250.895000   1492.695000        NaN\n",
       "75%              NaN  7425.097500   373.512500   2258.457500        NaN\n",
       "max              NaN  9993.800000   499.760000   2999.640000        NaN"
      ]
     },
     "execution_count": 10,
     "metadata": {},
     "output_type": "execute_result"
    }
   ],
   "source": [
    "# Obtain a statistics summary\n",
    "df.describe(include='all')"
   ]
  },
  {
   "cell_type": "markdown",
   "metadata": {},
   "source": [
    "## Check null values by column"
   ]
  },
  {
   "cell_type": "code",
   "execution_count": 11,
   "metadata": {},
   "outputs": [
    {
     "name": "stdout",
     "output_type": "stream",
     "text": [
      "empresa         0\n",
      "energia_kwh     0\n",
      "agua_m3         0\n",
      "co2_emissoes    0\n",
      "setor           0\n",
      "dtype: int64\n"
     ]
    }
   ],
   "source": [
    "# Check the number of  null values per variable\n",
    "print(df.isnull().sum())"
   ]
  },
  {
   "cell_type": "code",
   "execution_count": 12,
   "metadata": {},
   "outputs": [
    {
     "data": {
      "text/plain": [
       "setor\n",
       "Indústria      849\n",
       "Varejo         848\n",
       "Saúde          845\n",
       "Alimentação    841\n",
       "Serviços       827\n",
       "Educação       790\n",
       "Name: count, dtype: int64"
      ]
     },
     "execution_count": 12,
     "metadata": {},
     "output_type": "execute_result"
    }
   ],
   "source": [
    "df['setor'].value_counts()"
   ]
  },
  {
   "cell_type": "markdown",
   "metadata": {},
   "source": [
    "## Check duplicated values by column"
   ]
  },
  {
   "cell_type": "code",
   "execution_count": 13,
   "metadata": {},
   "outputs": [
    {
     "data": {
      "text/plain": [
       "np.int64(0)"
      ]
     },
     "execution_count": 13,
     "metadata": {},
     "output_type": "execute_result"
    }
   ],
   "source": [
    "# Check for duplicates\n",
    "duplicate_rows = df.duplicated().sum()\n",
    "duplicate_rows"
   ]
  },
  {
   "cell_type": "markdown",
   "metadata": {},
   "source": [
    "## Check types"
   ]
  },
  {
   "cell_type": "code",
   "execution_count": 14,
   "metadata": {},
   "outputs": [
    {
     "name": "stdout",
     "output_type": "stream",
     "text": [
      "<class 'pandas.core.frame.DataFrame'>\n",
      "RangeIndex: 5000 entries, 0 to 4999\n",
      "Data columns (total 5 columns):\n",
      " #   Column        Non-Null Count  Dtype  \n",
      "---  ------        --------------  -----  \n",
      " 0   empresa       5000 non-null   object \n",
      " 1   energia_kwh   5000 non-null   float64\n",
      " 2   agua_m3       5000 non-null   float64\n",
      " 3   co2_emissoes  5000 non-null   float64\n",
      " 4   setor         5000 non-null   object \n",
      "dtypes: float64(3), object(2)\n",
      "memory usage: 195.4+ KB\n",
      "None\n"
     ]
    }
   ],
   "source": [
    "# Check data types\n",
    "print(df.info())"
   ]
  },
  {
   "cell_type": "markdown",
   "metadata": {},
   "source": [
    "## Univariate Analysis"
   ]
  },
  {
   "cell_type": "code",
   "execution_count": 22,
   "metadata": {},
   "outputs": [
    {
     "name": "stdout",
     "output_type": "stream",
     "text": [
      "energia_kwh\n",
      "Skew : 0.04\n"
     ]
    },
    {
     "data": {
      "image/png": "[encoded data removed]",
      "text/plain": [
       "<Figure size 800x300 with 2 Axes>"
      ]
     },
     "metadata": {},
     "output_type": "display_data"
    },
    {
     "name": "stdout",
     "output_type": "stream",
     "text": [
      "agua_m3\n",
      "Skew : 0.03\n"
     ]
    },
    {
     "data": {
      "image/png": "[encoded data removed]",
      "text/plain": [
       "<Figure size 800x300 with 2 Axes>"
      ]
     },
     "metadata": {},
     "output_type": "display_data"
    },
    {
     "name": "stdout",
     "output_type": "stream",
     "text": [
      "co2_emissoes\n",
      "Skew : 0.02\n"
     ]
    },
    {
     "data": {
      "image/png": "[encoded data removed]",
      "text/plain": [
       "<Figure size 800x300 with 2 Axes>"
      ]
     },
     "metadata": {},
     "output_type": "display_data"
    }
   ],
   "source": [
    "# Univariate analysis\n",
    "for col in df.columns:\n",
    "  if col != 'empresa' and col != 'setor':\n",
    "    print(col)\n",
    "    print('Skew :', round(df[col].skew(), 2))\n",
    "    #prepare to plot two graphs\n",
    "    plt.figure(figsize = (8, 3))\n",
    "    plt.subplot(1, 2, 1)\n",
    "    #graph 1\n",
    "    df[col].hist(grid=False)\n",
    "    plt.ylabel('count')\n",
    "    plt.subplot(1, 2, 2)\n",
    "    #graph 2\n",
    "    sns.boxplot(x=df[col])\n",
    "    plt.show()"
   ]
  },
  {
   "cell_type": "markdown",
   "metadata": {},
   "source": [
    "Tarefa 1: foram feitas a importação e a análise exploratória dos dados. Não foram identificados outliers e nem missing values, portanto, não será necessário o tratamento ou limpeza dos dados."
   ]
  },
  {
   "cell_type": "markdown",
   "metadata": {},
   "source": [
    "Tarefa 2: \n",
    "-- Ao pesquisar sobre sustentabilidade empresarial, vemos que as métricas podem concentrar-se em algumas vertentes: econômica, ambiental e social. Os dados contidos no datasel da empresa Green Flow podem ser usados para derivar métricas na vertente ambiental. Nesta vertente, alguns indicadores importantes são: pegada carbônica, consumo de água, energia e materiais reciclados, e emissões de CO2.\n",
    "\n"
   ]
  },
  {
   "cell_type": "markdown",
   "metadata": {},
   "source": []
  },
  {
   "cell_type": "code",
   "execution_count": null,
   "metadata": {},
   "outputs": [],
   "source": []
  },
  {
   "cell_type": "code",
   "execution_count": null,
   "metadata": {},
   "outputs": [],
   "source": []
  },
  {
   "cell_type": "code",
   "execution_count": null,
   "metadata": {},
   "outputs": [],
   "source": []
  }
 ],
 "metadata": {
  "kernelspec": {
   "display_name": "greenflow-startup",
   "language": "python",
   "name": "python3"
  },
  "language_info": {
   "codemirror_mode": {
    "name": "ipython",
    "version": 3
   },
   "file_extension": ".py",
   "mimetype": "text/x-python",
   "name": "python",
   "nbconvert_exporter": "python",
   "pygments_lexer": "ipython3",
   "version": "3.12.2"
  }
 },
 "nbformat": 4,
 "nbformat_minor": 2
}
